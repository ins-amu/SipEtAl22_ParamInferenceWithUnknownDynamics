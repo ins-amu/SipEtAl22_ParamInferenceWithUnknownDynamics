{
 "cells": [
  {
   "cell_type": "code",
   "execution_count": 1,
   "id": "051b4a7f",
   "metadata": {},
   "outputs": [],
   "source": [
    "import sys\n",
    "\n",
    "import numpy as np\n",
    "\n",
    "import matplotlib\n",
    "import matplotlib.pyplot as plt\n",
    "from matplotlib.gridspec import GridSpec\n",
    "\n",
    "import scipy.stats as stats\n",
    "from scipy.fft import fft, fftfreq\n",
    "import scipy.signal as sig\n",
    "from sklearn import linear_model\n",
    "\n",
    "sys.path.append(\"../../../code/ndsvae/\")\n",
    "import ndsvae as ndsv\n",
    "\n",
    "sys.path.append(\"..\")\n",
    "import plot\n",
    "import util\n",
    "\n",
    "%matplotlib inline"
   ]
  },
  {
   "cell_type": "markdown",
   "id": "76a5fe9e",
   "metadata": {},
   "source": [
    "## Set matplotlib"
   ]
  },
  {
   "cell_type": "code",
   "execution_count": 2,
   "id": "b3b367e0",
   "metadata": {},
   "outputs": [],
   "source": [
    "plt.rcParams['font.family'] = \"sans-serif\"\n",
    "plt.rcParams['font.sans-serif'] = \"Arial\"\n",
    "\n",
    "SMALL_SIZE = 8\n",
    "MEDIUM_SIZE = 10\n",
    "BIGGER_SIZE = 12\n",
    "\n",
    "plt.rc('font', size=SMALL_SIZE)          # controls default text sizes\n",
    "plt.rc('axes', titlesize=SMALL_SIZE)     # fontsize of the axes title\n",
    "plt.rc('axes', labelsize=SMALL_SIZE)    # fontsize of the x and y labels\n",
    "plt.rc('xtick', labelsize=SMALL_SIZE)    # fontsize of the tick labels\n",
    "plt.rc('ytick', labelsize=SMALL_SIZE)    # fontsize of the tick labels\n",
    "plt.rc('legend', fontsize=SMALL_SIZE)    # legend fontsize\n",
    "plt.rc('figure', titlesize=BIGGER_SIZE)  # fontsize of the figure title"
   ]
  },
  {
   "cell_type": "code",
   "execution_count": 3,
   "id": "db2f4413",
   "metadata": {},
   "outputs": [],
   "source": [
    "class dotdict(dict):\n",
    "    \"\"\"dot.notation access to dictionary attributes\"\"\"\n",
    "    __getattr__ = dict.get\n",
    "    __setattr__ = dict.__setitem__\n",
    "    __delattr__ = dict.__delitem__\n",
    "    \n",
    "\n",
    "def get_results(testcase, config, runs):\n",
    "    modelname = \"AN\"\n",
    "    path = f\"../run/main/{testcase}/model{modelname}/{config}\"\n",
    "    ds = ndsv.Dataset.from_file(f\"../run/main/{testcase}/dataset.npz\")\n",
    "    run = util.select_run(testcase, modelname, config, runs)    \n",
    "    surr   = ndsv.GeneratedData.from_file(f\"../run/main/{testcase}/surrogates.npz\")\n",
    "    sims   = ndsv.GeneratedData.from_file(f\"{path}/run{run:02d}/simulations.npz\")\n",
    "    params = ndsv.Params.from_file(f\"{path}/run{run:02d}/parameters.npz\")\n",
    "        \n",
    "    return dotdict(ds=ds, sims=sims, params=params, surr=surr)\n",
    "\n",
    "res = get_results(\"hopf\", \"ns_2_mreg_2_msub_1_nf_32\", [0,1])"
   ]
  },
  {
   "cell_type": "code",
   "execution_count": 4,
   "id": "7ef8ce7b",
   "metadata": {},
   "outputs": [
    {
     "data": {
      "image/png": "[encoded data removed]",
      "text/plain": [
       "<Figure size 1000x300 with 7 Axes>"
      ]
     },
     "metadata": {
      "needs_background": "light"
     },
     "output_type": "display_data"
    }
   ],
   "source": [
    "def plot_ci(pos, x, q, color='k', ls='-', zorder=None):\n",
    "    plt.plot([pos,pos], np.nanpercentile(x, q), lw=1, color=color, ls=ls, zorder=zorder)\n",
    "    plt.scatter(pos, np.nanmedian(x), color=color, s=5, zorder=zorder)\n",
    "\n",
    "\n",
    "def get_rhos(ptru, pest, nsamples, linreg=None):\n",
    "    \"\"\"\n",
    "    ptru ... Ground truth, shape (n,)\n",
    "    pest ... Estimated parameters (Gaussians, mu and std in last dimension), shape (n, m, 2)\n",
    "    n = number of parameters, m = dimensionality of the estimated parameter space\n",
    "    \n",
    "    Returns array of shape (nsamples) with Spearman's rho\n",
    "    \"\"\"\n",
    "    \n",
    "    if not linreg:\n",
    "        linreg = linear_model.LinearRegression().fit(pest[:,:,0], ptru)\n",
    "    \n",
    "    rhos = np.zeros(nsamples)\n",
    "    for i in range(nsamples):\n",
    "        pest_samples = np.random.normal(pest[:,:,0], pest[:,:,1])\n",
    "        pest_samples_projected = linreg.predict(pest_samples)\n",
    "                        \n",
    "        rhos[i] = stats.spearmanr(ptru, pest_samples_projected)[0]\n",
    "                \n",
    "    return rhos  \n",
    "\n",
    "def plot_paramfit(ax, ptru, pest, mask=None, nsamples=100, title=None, gs=None):\n",
    "    nsub, nreg, m, _ = pest.shape\n",
    "    assert ptru.shape == (nsub, nreg)\n",
    "    \n",
    "    if mask is not None:\n",
    "        assert mask.shape == (nsub, nreg)\n",
    "    else:\n",
    "        mask = np.ones(ptru.shape, dtype=bool)\n",
    "\n",
    "    plt.sca(ax)\n",
    "    if title:\n",
    "        plt.title(title)\n",
    "    \n",
    "    # Linear regression on all samples\n",
    "    linreg = linear_model.LinearRegression().fit(pest[mask][:,:,0], ptru[mask])\n",
    "    \n",
    "    for i in range(nsub):\n",
    "        rhos = get_rhos(ptru[i, mask[i]], pest[i, mask[i]], nsamples, linreg)\n",
    "        plot_ci(i, rhos, [5,95])\n",
    "        \n",
    "    plot.axbottomleft(ax)\n",
    "    plt.ylabel(r\"Spearman's $\\rho$\")\n",
    "    # plt.ylim(-0.05, 1.05)        \n",
    "    plt.ylim(top=1.02)\n",
    "    plt.xlabel(\"Subject\")\n",
    "    plt.xticks(np.r_[:nsub], np.r_[:nsub]+1)\n",
    "    \n",
    "    if gs is not None:\n",
    "        plt.twiny()\n",
    "        plt.xticks(np.r_[:nsub], gs, fontsize=6, rotation='vertical')\n",
    "        plt.xlabel(\"Coupling coefficient G\")\n",
    "    \n",
    "    \n",
    "fig = plt.figure(figsize=(5, 1.5), dpi=200)    \n",
    "\n",
    "gs = GridSpec(1, 3, left=0.09, right=0.98, top=0.64, bottom=0.26, wspace=0.5)\n",
    "\n",
    "glabels = [f\"{g:3.1f}\" for g in res.ds.thetasub[:,0]]\n",
    "\n",
    "\n",
    "ax0 = plt.subplot(gs[0])\n",
    "plot_paramfit(ax0, res.ds.thetareg[:,:,0], res.params.thetareg, title=\"a\", gs=glabels)\n",
    "\n",
    "ax1 = plt.subplot(gs[1])\n",
    "plot_paramfit(ax1, res.ds.thetareg[:,:,1], res.params.thetareg, title=\"f (all)\", gs=glabels)\n",
    "\n",
    "ax2 = plt.subplot(gs[2])\n",
    "plot_paramfit(ax2, res.ds.thetareg[:,:,1], res.params.thetareg, mask=res.ds.thetareg[:,:,0] > 0,\n",
    "              title=\"f (a>0)\", gs=glabels)\n",
    "\n",
    "bg = plot.Background(visible=False)\n",
    "plot.add_panel_letters(fig, axes=[ax0, ax1, ax2], fontsize=12, xpos=-0.3, ypos=1.6)\n",
    "plt.savefig(\"./img/Fig_HopfParamRecovery.pdf\")"
   ]
  },
  {
   "cell_type": "code",
   "execution_count": 5,
   "id": "e244f3ae",
   "metadata": {},
   "outputs": [
    {
     "data": {
      "text/plain": [
       "((8, 68, 2), (8, 68, 2, 2))"
      ]
     },
     "execution_count": 5,
     "metadata": {},
     "output_type": "execute_result"
    }
   ],
   "source": [
    "res.ds.thetareg.shape, res.params.thetareg.shape"
   ]
  },
  {
   "cell_type": "code",
   "execution_count": null,
   "id": "a56192b8",
   "metadata": {},
   "outputs": [],
   "source": []
  }
 ],
 "metadata": {
  "kernelspec": {
   "display_name": "Python 3",
   "language": "python",
   "name": "python3"
  },
  "language_info": {
   "codemirror_mode": {
    "name": "ipython",
    "version": 3
   },
   "file_extension": ".py",
   "mimetype": "text/x-python",
   "name": "python",
   "nbconvert_exporter": "python",
   "pygments_lexer": "ipython3",
   "version": "3.8.8"
  }
 },
 "nbformat": 4,
 "nbformat_minor": 5
}
