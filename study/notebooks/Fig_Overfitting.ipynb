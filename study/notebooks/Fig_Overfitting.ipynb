{
 "cells": [
  {
   "cell_type": "code",
   "execution_count": null,
   "id": "d2fc9559",
   "metadata": {},
   "outputs": [],
   "source": [
    "import re\n",
    "import sys\n",
    "import os\n",
    "import glob\n",
    "\n",
    "import numpy as np\n",
    "import matplotlib.pyplot as plt\n",
    "import matplotlib\n",
    "import seaborn as sns\n",
    "import pandas as pd\n",
    "import tensorflow as tf\n",
    "\n",
    "sys.path.append(\"../../ndsvae\")\n",
    "import ndsvae as ndsv\n",
    "\n",
    "sys.path.append(\"..\")\n",
    "import util\n",
    "import plotutils as pu\n",
    "\n",
    "\n",
    "%matplotlib inline"
   ]
  },
  {
   "cell_type": "code",
   "execution_count": null,
   "id": "f2caa32e",
   "metadata": {},
   "outputs": [],
   "source": [
    "conn = \"linw\"\n",
    "preproc = \"dicer\"\n",
    "modelname = \"AB\"\n",
    "config = \"ns_3_mreg_3_msub_0_nf_32\"\n",
    "run = util.select_run_fc(f\"hcp100_{conn}_{preproc}\", modelname, config, [0,1], \"hcp\")"
   ]
  },
  {
   "cell_type": "code",
   "execution_count": null,
   "id": "0f36ddf6",
   "metadata": {},
   "outputs": [],
   "source": [
    "hist = pd.read_csv(f\"../run/hcp/hcp100_{conn}_{preproc}/model{modelname}/{config}/run{run:02d}/fit/hist.csv\")"
   ]
  },
  {
   "cell_type": "code",
   "execution_count": null,
   "id": "041c650c",
   "metadata": {},
   "outputs": [],
   "source": [
    "hist"
   ]
  },
  {
   "cell_type": "code",
   "execution_count": null,
   "id": "4581c947",
   "metadata": {},
   "outputs": [],
   "source": [
    "plt.figure(figsize=(14,8), dpi=100)\n",
    "\n",
    "plt.plot(hist.epoch, hist.loss)\n",
    "plt.plot(hist.epoch, hist.loss_test)\n",
    "plt.ylim(1400, 1600)\n",
    "\n",
    "#  plt.axvline(epoch, ls='--', color='0.5')\n",
    "plt.grid()"
   ]
  },
  {
   "cell_type": "markdown",
   "id": "c216501e",
   "metadata": {},
   "source": [
    "## ELBO for train and test samples"
   ]
  },
  {
   "cell_type": "code",
   "execution_count": null,
   "id": "fa30ca0e",
   "metadata": {},
   "outputs": [],
   "source": [
    "ds = ndsv.Dataset.from_file(f\"../run/hcp/hcp100_{conn}_{preproc}/dataset.npz\")\n",
    "direc = f\"../run/hcp/hcp100_{conn}_{preproc}/model{modelname}/{config}/run{run:02d}\"\n",
    "train_mask = np.load(f\"{direc}/fit/train_mask.npy\")\n",
    "\n",
    "model = util.get_model(modelname, config, ds)\n",
    "model.load_weights(os.path.join(direc, \"fit/model\"))\n",
    "\n",
    "batch_size = ds.nreg\n",
    "dataset = ndsv.training._prep_training_dataset(ds, batch_size, model.training_mode, model.upsample_factor,\n",
    "                                               mask=np.ones((ds.nsub, ds.nreg), dtype=bool), shuffle=False)"
   ]
  },
  {
   "cell_type": "code",
   "execution_count": null,
   "id": "bf5a2da9",
   "metadata": {},
   "outputs": [],
   "source": [
    "nsamples = 8\n",
    "elbos = np.zeros((ds.nsub, ds.nreg, nsamples))\n",
    "for i, batch in enumerate(dataset):\n",
    "    print(i, end=' ', flush=True)\n",
    "    \n",
    "    model.loss(batch, nsamples=nsamples, betax=1.0, betap=1.0)\n",
    "    elbos[i,:,:] = model.elbo.numpy()\n",
    "    \n",
    "elbo = np.mean(elbos, axis=2)"
   ]
  },
  {
   "cell_type": "code",
   "execution_count": null,
   "id": "ce35d04a",
   "metadata": {},
   "outputs": [],
   "source": [
    "rows = []\n",
    "for i in range(ds.nsub):\n",
    "    for j in range(ds.nreg):\n",
    "        rows.append(dict(sub=i, reg=j, train=train_mask[i,j], elbo=elbo[i,j]))\n",
    "df = pd.DataFrame(rows)"
   ]
  },
  {
   "cell_type": "markdown",
   "id": "05a4e09d",
   "metadata": {},
   "source": [
    "## Figure"
   ]
  },
  {
   "cell_type": "code",
   "execution_count": null,
   "id": "a7ad9224",
   "metadata": {},
   "outputs": [],
   "source": [
    "plt.rcParams['font.family'] = \"sans-serif\"\n",
    "plt.rcParams['font.sans-serif'] = \"Arial\"\n",
    "\n",
    "SMALL_SIZE = 8\n",
    "MEDIUM_SIZE = 10\n",
    "BIGGER_SIZE = 12\n",
    "\n",
    "plt.rc('font', size=SMALL_SIZE)          # controls default text sizes\n",
    "plt.rc('axes', titlesize=SMALL_SIZE)     # fontsize of the axes title\n",
    "plt.rc('axes', labelsize=SMALL_SIZE)    # fontsize of the x and y labels\n",
    "plt.rc('xtick', labelsize=SMALL_SIZE)    # fontsize of the tick labels\n",
    "plt.rc('ytick', labelsize=SMALL_SIZE)    # fontsize of the tick labels\n",
    "plt.rc('legend', fontsize=SMALL_SIZE)    # legend fontsize\n",
    "plt.rc('figure', titlesize=BIGGER_SIZE)  # fontsize of the figure title"
   ]
  },
  {
   "cell_type": "code",
   "execution_count": null,
   "id": "9338bcc0",
   "metadata": {},
   "outputs": [],
   "source": [
    "plt.figure(figsize=(3,2), dpi=150)\n",
    "sns.violinplot(data=df, y='elbo', x='train', zorder=10)\n",
    "plt.grid(axis='y')\n",
    "plt.ylabel(\"Datapoint ELBO\")\n",
    "plt.xlabel(\"\")\n",
    "plt.xticks([0,1], [f\"Train set\\n(n = {np.sum(df.train)})\", f\"Test set\\n(n = {np.sum(~df.train)})\"])\n",
    "\n",
    "plt.gca().set_axisbelow(True)\n",
    "pu.bottomleft_spines(plt.gca())\n",
    "plt.tight_layout()\n",
    "\n",
    "plt.savefig(\"img/Fig_HCP-overfitting.pdf\")"
   ]
  },
  {
   "cell_type": "code",
   "execution_count": null,
   "id": "b3296a07",
   "metadata": {},
   "outputs": [],
   "source": [
    "np.mean(df.elbo[df.train]), np.mean(df.elbo[~df.train])"
   ]
  },
  {
   "cell_type": "code",
   "execution_count": null,
   "id": "c6ed50b2",
   "metadata": {},
   "outputs": [],
   "source": []
  }
 ],
 "metadata": {
  "kernelspec": {
   "display_name": "Python 3 (ipykernel)",
   "language": "python",
   "name": "python3"
  },
  "language_info": {
   "codemirror_mode": {
    "name": "ipython",
    "version": 3
   },
   "file_extension": ".py",
   "mimetype": "text/x-python",
   "name": "python",
   "nbconvert_exporter": "python",
   "pygments_lexer": "ipython3",
   "version": "3.8.8"
  }
 },
 "nbformat": 4,
 "nbformat_minor": 5
}
