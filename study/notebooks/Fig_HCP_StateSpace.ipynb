{
 "cells": [
  {
   "cell_type": "code",
   "execution_count": null,
   "id": "f0e1c300",
   "metadata": {},
   "outputs": [],
   "source": [
    "import os\n",
    "import sys\n",
    "import itertools\n",
    "\n",
    "import numpy as np\n",
    "import pandas as pd\n",
    "import scipy.stats as stats\n",
    "import scipy.signal as sig\n",
    "import scipy.io as spio\n",
    "\n",
    "\n",
    "import matplotlib\n",
    "import matplotlib.pyplot as plt\n",
    "from matplotlib.gridspec import GridSpec\n",
    "import seaborn as sns\n",
    "\n",
    "from sklearn.decomposition import PCA\n",
    "from sklearn.linear_model import LinearRegression\n",
    "import statsmodels.api as sm\n",
    "\n",
    "sys.path.append(\"../../ndsvae/\")\n",
    "import ndsvae as ndsv\n",
    "\n",
    "sys.path.append(\"../\")\n",
    "import util\n",
    "import plotutils as pu\n",
    "\n",
    "%matplotlib inline"
   ]
  },
  {
   "cell_type": "code",
   "execution_count": null,
   "id": "9236633b",
   "metadata": {},
   "outputs": [],
   "source": [
    "configs = [\"ns_1_mreg_3_msub_0_nf_32\", \"ns_2_mreg_3_msub_0_nf_32\",\n",
    "           \"ns_3_mreg_3_msub_0_nf_32\", \"ns_4_mreg_3_msub_0_nf_32\", \"ns_5_mreg_3_msub_0_nf_32\"]\n",
    "\n",
    "conn = \"linw\"\n",
    "preproc = \"dicer\"\n",
    "modelname = \"AB\"\n",
    "\n",
    "nconf = len(configs)"
   ]
  },
  {
   "cell_type": "code",
   "execution_count": null,
   "id": "bb3d0c10",
   "metadata": {},
   "outputs": [],
   "source": [
    "ds = ndsv.Dataset.from_file(f\"../run/hcp/hcp100_{conn}_{preproc}/dataset.npz\")\n",
    "runs = [util.select_run_fc(f\"hcp100_{conn}_{preproc}\", modelname, config, [0,1], \"hcp\") for config in configs]\n",
    "direcs = [f\"../run/hcp/hcp100_{conn}_{preproc}/model{modelname}/{config}/run{run:02d}\" \n",
    "         for config, run in zip(configs, runs)]\n",
    "paramss = [util.load_params(os.path.join(direc, \"parameters\"), subjects=np.r_[:100]) for direc in direcs]"
   ]
  },
  {
   "cell_type": "code",
   "execution_count": null,
   "id": "9afaae89",
   "metadata": {},
   "outputs": [],
   "source": [
    "nsub, nreg, _, nt = ds.y.shape\n",
    "subjects = np.r_[:nsub]\n",
    "regions = np.r_[:nreg]"
   ]
  },
  {
   "cell_type": "code",
   "execution_count": null,
   "id": "3b8712c8",
   "metadata": {},
   "outputs": [],
   "source": [
    "runs"
   ]
  },
  {
   "cell_type": "markdown",
   "id": "d808d928",
   "metadata": {},
   "source": [
    "## PCA of the states"
   ]
  },
  {
   "cell_type": "code",
   "execution_count": null,
   "id": "23169dea",
   "metadata": {},
   "outputs": [],
   "source": [
    "def calc_ev(paramss):\n",
    "    ncomp = 5\n",
    "    nsub = 100\n",
    "    nreg = 68\n",
    "    \n",
    "    nconf = len(paramss)\n",
    "    pca_ev = np.full((nconf, ncomp, nsub, nreg), np.nan)\n",
    "\n",
    "    for i in range(nconf):\n",
    "        xmu  = paramss[i].x[:,:,:,:,0]\n",
    "        xstd = paramss[i].x[:,:,:,:,1]\n",
    "        ns = xmu.shape[2]\n",
    "        for j in range(nsub):\n",
    "            for k in range(nreg):\n",
    "                xnorm = (xmu[j,k] / np.std(xmu[j,k], axis=1)[:,None]).T\n",
    "                pca = PCA(n_components=ns)\n",
    "                pca.fit(xnorm)\n",
    "                pca_ev[i,:ns,j,k] = pca.explained_variance_ratio_\n",
    "        \n",
    "    return pca_ev    \n",
    "\n",
    "pca_ev = calc_ev(paramss)"
   ]
  },
  {
   "cell_type": "code",
   "execution_count": null,
   "id": "09587aaf",
   "metadata": {},
   "outputs": [],
   "source": [
    "print(\"      ns=1      ns=2      ns=3      ns=4      ns=5\")\n",
    "print(\"--------------------------------------------------\")\n",
    "\n",
    "for j in range(5):\n",
    "    for i in range(nconf):         \n",
    "        if j < i+1:\n",
    "            print(f\"  & {np.mean(pca_ev[i,j]):6.3f} \\\\pm {np.std(pca_ev[i,j]):6.3f}\", end='')\n",
    "        else:\n",
    "            print(\"  &        -         \", end='')\n",
    "    print(\"  \\\\\\\\\")"
   ]
  },
  {
   "cell_type": "markdown",
   "id": "9b970fbf",
   "metadata": {},
   "source": [
    "## Calculate KL"
   ]
  },
  {
   "cell_type": "code",
   "execution_count": null,
   "id": "6e832f6b",
   "metadata": {},
   "outputs": [],
   "source": [
    "def calc_kl_timeseries(x, nsamples=10):\n",
    "    nsub, nreg, ns, nt, _ = x.shape\n",
    "        \n",
    "    kl = np.full((nsub, nreg, ns, nt-1), np.nan)\n",
    "\n",
    "    for (isub, ireg) in itertools.product(range(nsub), range(nreg)):\n",
    "        xr = x[isub,ireg,:,1:,:]  # Note: we are removing the initial conditions\n",
    "        ntm = nt - 1\n",
    "        \n",
    "        x1mu, x1std  = xr[:,:,0], xr[:,:,1]        \n",
    "        xsamples = np.random.normal(x1mu[:,:,None], x1std[:,:,None], size=(ns, ntm, nsamples))        \n",
    "        x2mu  = np.mean(np.reshape(xsamples, (ns, ntm*nsamples)), axis=1)\n",
    "        x2std = np.std(np.reshape(xsamples, (ns, ntm*nsamples)), axis=1)\n",
    "\n",
    "        for i in range(ns):\n",
    "            kl[isub,ireg,i,:] = (np.log(x2std[i]/x1std[i]) \n",
    "                                 + (x1std[i]**2 + (x1mu[i] - x2mu[i])**2)/(2*x2std[i]**2) - 0.5)\n",
    "    return np.mean(kl, axis=(0,1,3))"
   ]
  },
  {
   "cell_type": "code",
   "execution_count": null,
   "id": "02cecd02",
   "metadata": {},
   "outputs": [],
   "source": [
    "np.random.seed(42)\n",
    "calc_kl_timeseries(paramss[3].x)\n",
    "\n",
    "kls = [calc_kl_timeseries(params.x) for params in paramss]\n",
    "order = [np.argsort(-kl) for kl in kls]\n",
    "sorted_kls = [kl[o] for kl, o in zip(kls, order)]"
   ]
  },
  {
   "cell_type": "code",
   "execution_count": null,
   "id": "0b415a84",
   "metadata": {},
   "outputs": [],
   "source": [
    "print(\"      ns=1      ns=2      ns=3      ns=4      ns=5\")\n",
    "print(\"--------------------------------------------------\")\n",
    "\n",
    "maxns = len(sorted_kls[-1])\n",
    "\n",
    "for j in range(maxns):\n",
    "    for i in range(nconf): \n",
    "        # klconf = -np.sort([np.mean(-kl[i,:,:,j,1:]) for j in range(ns)])\n",
    "        \n",
    "        if j < len(sorted_kls[i]):\n",
    "            print(f\"  & {sorted_kls[i][j]:6.3f}\", end='')\n",
    "        else:\n",
    "            print(\"  &    -  \", end='')\n",
    "    print(\"  \\\\\\\\\")"
   ]
  },
  {
   "cell_type": "code",
   "execution_count": null,
   "id": "e16a102e",
   "metadata": {},
   "outputs": [],
   "source": [
    "plt.rcParams['font.family'] = \"sans-serif\"\n",
    "plt.rcParams['font.sans-serif'] = \"Arial\"\n",
    "\n",
    "SMALL_SIZE = 8\n",
    "MEDIUM_SIZE = 10\n",
    "BIGGER_SIZE = 12\n",
    "\n",
    "plt.rc('font', size=SMALL_SIZE)          # controls default text sizes\n",
    "plt.rc('axes', titlesize=SMALL_SIZE)     # fontsize of the axes title\n",
    "plt.rc('axes', labelsize=SMALL_SIZE)    # fontsize of the x and y labels\n",
    "plt.rc('xtick', labelsize=SMALL_SIZE)    # fontsize of the tick labels\n",
    "plt.rc('ytick', labelsize=SMALL_SIZE)    # fontsize of the tick labels\n",
    "plt.rc('legend', fontsize=SMALL_SIZE)    # legend fontsize\n",
    "plt.rc('figure', titlesize=BIGGER_SIZE)  # fontsize of the figure title"
   ]
  },
  {
   "cell_type": "code",
   "execution_count": null,
   "id": "85cb19b5",
   "metadata": {},
   "outputs": [],
   "source": [
    "isub = 5\n",
    "ireg = 40\n",
    "\n",
    "maxns = 5\n",
    "\n",
    "fig = plt.figure(figsize=(7.5,4), dpi=150)\n",
    "\n",
    "gs = GridSpec(maxns+1, maxns+1, width_ratios=[1,1,1,1,1,1], height_ratios=[0.6,1,1,1,1,1],\n",
    "              hspace=0.2, wspace=0.4, left=-0.1, right=0.98, bottom=0.04, top=1.0)\n",
    "\n",
    "\n",
    "# Data\n",
    "ax = plt.subplot(gs[5,1])\n",
    "plt.plot(ds.y[isub,ireg,0,:], color='b', lw=0.5)\n",
    "plt.xlim(300, 500)\n",
    "plt.ylim(-2.5,2.5)\n",
    "plt.title(\"Observation\")\n",
    "plt.xticks([])\n",
    "ax.spines['top'].set_visible(False)\n",
    "ax.spines['right'].set_visible(False)\n",
    "ax.spines['bottom'].set_visible(False)\n",
    "\n",
    "\n",
    "# Labels\n",
    "for i in range(maxns):\n",
    "    plt.subplot(gs[1+i,i])\n",
    "    plt.text(1, 0.5, f\"$x_{i+1}$\", ha='center', va='center', rotation='vertical', fontsize=8)\n",
    "    plt.axis('off')\n",
    "    \n",
    " \n",
    "for iconf in range(nconf):\n",
    "    params = paramss[iconf]\n",
    "    x = params.x[isub,ireg,:,:,:]\n",
    "    ns = x.shape[0]\n",
    "\n",
    "    plt.subplot(gs[0,iconf+1])\n",
    "    plt.text(0.5, 0., f\"$n_s = {ns}$\", ha='center', va='center', fontsize=8)\n",
    "    plt.axis('off')\n",
    "    \n",
    "    for i in range(iconf+1):\n",
    "        ax = plt.subplot(gs[i+1,iconf+1])\n",
    "\n",
    "        if i >= ns: continue        \n",
    "        ind = order[iconf][i]\n",
    "        \n",
    "        plt.plot(x[ind,:,0], color='b', lw=0.5)\n",
    "        plt.fill_between(np.r_[:nt], x[ind,:,0]-x[ind,:,1], x[ind,:,0]+x[ind,:,1], color='b', alpha=0.3)\n",
    "\n",
    "        plt.xlim(300, 500)\n",
    "        plt.ylim(-1.2,1.2)\n",
    "        \n",
    "        plt.xticks([])\n",
    "        ax.spines['top'].set_visible(False)\n",
    "        ax.spines['right'].set_visible(False)\n",
    "        ax.spines['bottom'].set_visible(False)\n",
    "        \n",
    "        # Scale\n",
    "        if iconf == 0 and i == 0:\n",
    "            dt = ds.t[1] - ds.t[0]\n",
    "            n60 = 60./dt\n",
    "            \n",
    "            plt.plot([400, 400+n60], [-1,-1], lw=3, color='k')\n",
    "            plt.text(400+n60/2, -1.3, \"60 s\", ha='center', va='top', fontsize=8)\n",
    "\n",
    "        \n",
    "        \n",
    "plt.savefig(\"./img/Fig_StateSpace.pdf\")"
   ]
  },
  {
   "cell_type": "code",
   "execution_count": null,
   "id": "dd5b30dd",
   "metadata": {},
   "outputs": [],
   "source": []
  }
 ],
 "metadata": {
  "kernelspec": {
   "display_name": "Python 3 (ipykernel)",
   "language": "python",
   "name": "python3"
  },
  "language_info": {
   "codemirror_mode": {
    "name": "ipython",
    "version": 3
   },
   "file_extension": ".py",
   "mimetype": "text/x-python",
   "name": "python",
   "nbconvert_exporter": "python",
   "pygments_lexer": "ipython3",
   "version": "3.8.8"
  }
 },
 "nbformat": 4,
 "nbformat_minor": 5
}
