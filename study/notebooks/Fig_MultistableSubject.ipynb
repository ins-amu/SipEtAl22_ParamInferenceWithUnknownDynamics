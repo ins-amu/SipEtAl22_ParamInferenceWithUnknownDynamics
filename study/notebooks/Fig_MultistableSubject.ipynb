{
 "cells": [
  {
   "cell_type": "code",
   "execution_count": null,
   "id": "100945ff",
   "metadata": {},
   "outputs": [],
   "source": [
    "import sys\n",
    "import os\n",
    "\n",
    "import numpy as np\n",
    "import matplotlib.pyplot as plt\n",
    "from matplotlib.gridspec import GridSpec\n",
    "import seaborn as sns\n",
    "\n",
    "import pandas as pd\n",
    "\n",
    "sys.path.append(\"../../ndsvae/\")\n",
    "import ndsvae as ndsv\n",
    "\n",
    "sys.path.append(\"../\")\n",
    "import util\n",
    "import plotutils as pu\n",
    "\n",
    "%matplotlib inline"
   ]
  },
  {
   "cell_type": "code",
   "execution_count": null,
   "id": "1c6c9005",
   "metadata": {},
   "outputs": [],
   "source": [
    "config = \"ns_3_mreg_3_msub_0_nf_32\"\n",
    "conn = \"linw\"\n",
    "preproc = \"dicer\"\n",
    "modelname = \"AB\"\n",
    "\n",
    "ds = ndsv.Dataset.from_file(f\"../run/hcp/hcp100_{conn}_{preproc}/dataset.npz\")\n",
    "run = util.select_run_fc(f\"hcp100_{conn}_{preproc}\", modelname, config, [0,1], \"hcp\")\n",
    "direc = f\"../run/hcp/hcp100_{conn}_{preproc}/model{modelname}/{config}/run{run:02d}\"\n",
    "params = util.load_params(os.path.join(direc, \"parameters\"), np.r_[:100])\n",
    "\n",
    "model = util.get_model(modelname, config, ds)\n",
    "model.load_weights(f\"../run/hcp/hcp100_{conn}_{preproc}/model{modelname}/{config}/run{run:02d}/fit/model\")"
   ]
  },
  {
   "cell_type": "code",
   "execution_count": null,
   "id": "226796f2",
   "metadata": {},
   "outputs": [],
   "source": [
    "isub = 45\n",
    "irand = 3\n",
    "\n",
    "nsub, nreg, _, nt = ds.y.shape\n",
    "fixed_points = np.load(\"res/subj_fp.npz\")\n",
    "df = pd.read_csv(\"res/subj_fp.csv\")\n",
    "df[(df.isub == isub) & (df.irand == irand)]"
   ]
  },
  {
   "cell_type": "code",
   "execution_count": null,
   "id": "cc1f70da",
   "metadata": {},
   "outputs": [],
   "source": [
    "# Get the fixed points\n",
    "\n",
    "xf1 = fixed_points['fixed_points'][190]\n",
    "xf2 = fixed_points['fixed_points'][191]\n",
    "xf3 = fixed_points['fixed_points'][192]\n",
    "iregs = np.argsort(-np.linalg.norm(xf1-xf2, axis=1))[:2]"
   ]
  },
  {
   "cell_type": "code",
   "execution_count": null,
   "id": "82f06325",
   "metadata": {},
   "outputs": [],
   "source": [
    "ntd = int(nt//3)\n",
    "nsamples = 1\n",
    "\n",
    "# Multistable subject\n",
    "thetareg = np.zeros((1, nreg, model.ns, 2))\n",
    "thetareg[:,:,:,0] = fixed_points['thetareg'][isub,irand]\n",
    "sims = model.simulate_subjects(ds.w[[isub]], ntd+20*nt, thetareg=thetareg, thetasub=None,\n",
    "                               us=None, n=nsamples)\n",
    "x = sims.x[0,0,:,:,ntd:]"
   ]
  },
  {
   "cell_type": "markdown",
   "id": "ce9695c0",
   "metadata": {},
   "source": [
    "## Figure"
   ]
  },
  {
   "cell_type": "code",
   "execution_count": null,
   "id": "cbe8f0da",
   "metadata": {},
   "outputs": [],
   "source": [
    "plt.rcParams['font.family'] = \"sans-serif\"\n",
    "plt.rcParams['font.sans-serif'] = \"Arial\"\n",
    "\n",
    "SMALL_SIZE = 8\n",
    "MEDIUM_SIZE = 10\n",
    "BIGGER_SIZE = 12\n",
    "\n",
    "plt.rc('font', size=SMALL_SIZE)          # controls default text sizes\n",
    "plt.rc('axes', titlesize=SMALL_SIZE)     # fontsize of the axes title\n",
    "plt.rc('axes', labelsize=SMALL_SIZE)    # fontsize of the x and y labels\n",
    "plt.rc('xtick', labelsize=SMALL_SIZE)    # fontsize of the tick labels\n",
    "plt.rc('ytick', labelsize=SMALL_SIZE)    # fontsize of the tick labels\n",
    "plt.rc('legend', fontsize=SMALL_SIZE)    # legend fontsize\n",
    "plt.rc('figure', titlesize=BIGGER_SIZE)  # fontsize of the figure title"
   ]
  },
  {
   "cell_type": "code",
   "execution_count": null,
   "id": "9cbcf26a",
   "metadata": {},
   "outputs": [],
   "source": [
    "fig = plt.figure(figsize=(7.5, 4), dpi=150)\n",
    "\n",
    "gs1 = GridSpec(nrows=2, ncols=1, left=0.08, bottom=0.1, right=0.6, hspace=0.5, top=0.92)\n",
    "gs2 = GridSpec(nrows=1, ncols=1, left=0.7, right=0.99, bottom=0.26, top=0.74)\n",
    "\n",
    "# Distance of fixed points\n",
    "ax = plt.subplot(gs1[0])\n",
    "for i in range(model.ns):\n",
    "    plt.bar(np.r_[:nreg]-0.3+i*0.3, np.abs(xf1-xf2)[:,i], width=0.3, label=f\"$x_{i+1}$\")\n",
    "    \n",
    "plt.legend()\n",
    "plt.xlim(0, 69)\n",
    "plt.xlabel(\"Region\")\n",
    "plt.ylabel(\"Distance between the stable\\nfixed points\")\n",
    "plt.xticks(iregs)\n",
    "pu.bottomleft_spines(ax)\n",
    "                     \n",
    "\n",
    "# What to plot    \n",
    "i1 = iregs[0]\n",
    "i2 = iregs[1]\n",
    "k = 1    \n",
    "    \n",
    "# Plot simulated time series\n",
    "ntp = 600\n",
    "\n",
    "ax = plt.subplot(gs1[1])\n",
    "for i, ireg in enumerate(reversed(iregs)):\n",
    "    plt.plot(0.72*np.r_[:ntp], x[ireg,k,0:ntp]+4*i, lw=0.5, color='tab:blue', zorder=10)\n",
    "    \n",
    "    plt.axhline(xf1[ireg,k]+4*i, color='k', lw=0.5, ls='-')\n",
    "    plt.axhline(xf2[ireg,k]+4*i, color='k', lw=0.5, ls='-')\n",
    "    plt.axhline(xf3[ireg,k]+4*i, color='k', lw=0.5, ls='--')\n",
    "    \n",
    "    \n",
    "plt.yticks([0,4], [f\"$x_{{{k+1},{i2}}}$\", f\"$x_{{{k+1},{i1}}}$\"])\n",
    "pu.bottomleft_spines(ax)\n",
    "plt.xlim(left=0.)\n",
    "plt.xlabel(\"Time [s]\")\n",
    "\n",
    "# KDE plot\n",
    "ax = plt.subplot(gs2[0])\n",
    "sns.kdeplot(x=x[i1,k,:], y=x[i2,k,:], fill=False)\n",
    "\n",
    "plt.scatter([xf1[i1,k], xf2[i1,k]], [xf1[i2,k], xf2[i2,k]], color='k', ec='k', lw=1, s=30, zorder=10)\n",
    "plt.scatter([xf3[i1,k]], [xf3[i2,k]], color='w', ec='k', lw=1, s=30, zorder=10)\n",
    "\n",
    "plt.xlabel(f\"$x_{{{k+1},{i1}}}$\")\n",
    "plt.ylabel(f\"$x_{{{k+1},{i2}}}$\")\n",
    "plt.xlim(-1.7, 1.7)\n",
    "plt.ylim(-1.7, 1.7)\n",
    "plt.xticks([-1,0,1])\n",
    "plt.yticks([-1,0,1])\n",
    "pu.bottomleft_spines(ax)\n",
    "\n",
    "# bg = pu.Background(visible=True)\n",
    "pu.add_panel_labels(fig=fig, fontsize=16, xs=-0.1, ys=1.0)\n",
    "plt.savefig(\"img/Fig_MultistableSubject.pdf\")"
   ]
  },
  {
   "cell_type": "code",
   "execution_count": null,
   "id": "aabdac3b",
   "metadata": {},
   "outputs": [],
   "source": []
  }
 ],
 "metadata": {
  "kernelspec": {
   "display_name": "Python 3 (ipykernel)",
   "language": "python",
   "name": "python3"
  },
  "language_info": {
   "codemirror_mode": {
    "name": "ipython",
    "version": 3
   },
   "file_extension": ".py",
   "mimetype": "text/x-python",
   "name": "python",
   "nbconvert_exporter": "python",
   "pygments_lexer": "ipython3",
   "version": "3.8.8"
  }
 },
 "nbformat": 4,
 "nbformat_minor": 5
}
