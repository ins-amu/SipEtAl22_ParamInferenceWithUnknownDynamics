{
 "cells": [
  {
   "cell_type": "code",
   "execution_count": null,
   "id": "15a56690",
   "metadata": {},
   "outputs": [],
   "source": [
    "import sys\n",
    "import os\n",
    "import itertools\n",
    "\n",
    "import numpy as np\n",
    "import scipy.stats as stats\n",
    "\n",
    "import matplotlib\n",
    "import matplotlib.pyplot as plt\n",
    "import matplotlib.gridspec as gridspec\n",
    "from mpl_toolkits.axes_grid1 import make_axes_locatable\n",
    "from mpl_toolkits.axes_grid1.inset_locator import inset_axes\n",
    "\n",
    "\n",
    "sys.path.append(\"../../ndsvae/\")\n",
    "import ndsvae as ndsv\n",
    "\n",
    "sys.path.append(\"..\")\n",
    "import plot\n",
    "import plotutils as pu\n",
    "import util\n",
    "import dsa\n",
    "\n",
    "\n",
    "%matplotlib inline\n",
    "%load_ext autoreload\n",
    "%autoreload 2"
   ]
  },
  {
   "cell_type": "markdown",
   "id": "82852e36",
   "metadata": {},
   "source": [
    "## Matplotlib config"
   ]
  },
  {
   "cell_type": "code",
   "execution_count": null,
   "id": "6b4f2d70",
   "metadata": {},
   "outputs": [],
   "source": [
    "plt.rcParams['font.family'] = \"sans-serif\"\n",
    "plt.rcParams['font.sans-serif'] = \"Arial\"\n",
    "\n",
    "SMALL_SIZE = 8\n",
    "MEDIUM_SIZE = 10\n",
    "BIGGER_SIZE = 12\n",
    "\n",
    "plt.rc('font', size=SMALL_SIZE)          # controls default text sizes\n",
    "plt.rc('axes', titlesize=SMALL_SIZE)     # fontsize of the axes title\n",
    "plt.rc('axes', labelsize=SMALL_SIZE)    # fontsize of the x and y labels\n",
    "plt.rc('xtick', labelsize=SMALL_SIZE)    # fontsize of the tick labels\n",
    "plt.rc('ytick', labelsize=SMALL_SIZE)    # fontsize of the tick labels\n",
    "plt.rc('legend', fontsize=SMALL_SIZE)    # legend fontsize\n",
    "plt.rc('figure', titlesize=BIGGER_SIZE)  # fontsize of the figure title"
   ]
  },
  {
   "cell_type": "markdown",
   "id": "e0ac1bbe",
   "metadata": {},
   "source": [
    "## Load data"
   ]
  },
  {
   "cell_type": "code",
   "execution_count": null,
   "id": "1dd65d94",
   "metadata": {},
   "outputs": [],
   "source": [
    "! ls ../run/hcp/hcp100_linw_dicer/"
   ]
  },
  {
   "cell_type": "code",
   "execution_count": null,
   "id": "54bca8dc",
   "metadata": {},
   "outputs": [],
   "source": [
    "conn = \"linw\"\n",
    "preproc = \"dicer\"\n",
    "modelname = \"AB\"\n",
    "config = \"ns_3_mreg_3_msub_0_nf_32\"\n",
    "isub = 5"
   ]
  },
  {
   "cell_type": "code",
   "execution_count": null,
   "id": "ba7bfcde",
   "metadata": {},
   "outputs": [],
   "source": [
    "ds = ndsv.Dataset.from_file(f\"../run/hcp/hcp100_{conn}_{preproc}/dataset.npz\")\n",
    "\n",
    "run = util.select_run_fc(f\"hcp100_{conn}_{preproc}\", modelname, config, [0,1], \"hcp\")\n",
    "direc = f\"../run/hcp/hcp100_{conn}_{preproc}/model{modelname}/{config}/run{run:02d}\"\n",
    "sims = ndsv.GeneratedData.from_file(os.path.join(direc, f\"simulations/simulations_{isub:03d}.npz\"))    \n",
    "params = util.load_params(os.path.join(direc, \"parameters\"), range(0, 100))\n",
    "model = util.get_model(modelname, config, ds)\n",
    "model.load_weights(os.path.join(direc, \"fit/model\"))\n",
    "\n",
    "nt = ds.y.shape[-1]"
   ]
  },
  {
   "cell_type": "markdown",
   "id": "cdcf4c9f",
   "metadata": {},
   "source": [
    "# Separate panels"
   ]
  },
  {
   "cell_type": "code",
   "execution_count": null,
   "id": "964d85a0",
   "metadata": {},
   "outputs": [],
   "source": [
    "colors = ['tab:blue', 'tab:green']\n",
    "\n",
    "def plot_obs_all(ax, t, y, iregs, title=None):\n",
    "    plt.sca(ax)\n",
    "    if title:\n",
    "        plt.title(title)\n",
    "    plt.imshow(y, aspect='auto', interpolation='none', vmin=-2.5, vmax=2.5, cmap='magma')\n",
    "    plt.yticks([])\n",
    "    plt.xticks([])\n",
    "    plt.ylabel(\"Regions\")\n",
    "    \n",
    "    for i, ireg in enumerate(iregs):\n",
    "        plt.scatter(-1, ireg, color=colors[i], marker=5, clip_on=False, s=20, lw=0)\n",
    "    plt.xlim(0, y.shape[1])\n",
    "    \n",
    "def plot_fc(ax, cax, y):\n",
    "    plt.sca(ax)\n",
    "    plt.title(\"Functional conn.\")\n",
    "    fc = np.corrcoef(y)\n",
    "    im = plt.imshow(fc, vmin=-1, vmax=1, cmap='bwr', interpolation='none')\n",
    "    plt.xticks([])\n",
    "    plt.yticks([])    \n",
    "    plt.xlabel(\"Regions\")\n",
    "    plt.ylabel(\"Regions\")\n",
    "    \n",
    "    if cax is not None:\n",
    "        plt.colorbar(im, cax=cax, orientation='vertical')\n",
    "        cax.tick_params(axis=u'y', which=u'both',length=0)\n",
    "        \n",
    "        \n",
    "def plot_obs_lines(ax, t, ys, labels, offset=4, us=None):\n",
    "    n = len(ys)\n",
    "    \n",
    "    plt.sca(ax)\n",
    "    for i, y in enumerate(ys):\n",
    "        plt.plot(t, y - offset*i, color=colors[i], lw=0.3)\n",
    "    \n",
    "    if us is not None:\n",
    "        plt.plot(t, us + 1.5*offset, color='k', lw=0.3)\n",
    "\n",
    "    plt.xlim(t[0], t[-1])    \n",
    "    plt.xlabel(\"Time\")\n",
    "    plt.xticks([])\n",
    "\n",
    "    plt.ylim(-n*offset, 2.5*offset)\n",
    "    if us is None:\n",
    "        plt.yticks(-offset*np.r_[0:n], labels)\n",
    "    else:\n",
    "        plt.yticks(list(-offset*np.r_[0:n]) + [1.5*offset], list(labels) + [\"Input\"])\n",
    "                \n",
    "    for ytick, color in zip(ax.get_yticklabels()[:n], colors[:n]):\n",
    "        ytick.set_color(color)\n",
    "    pu.bottomleft_spines(ax)\n",
    "\n",
    "        \n",
    "def plot_observations(gs, t, y, examples, us=None):\n",
    "    # left, right, bottom, top = pos\n",
    "    \n",
    "    # gs = fig.add_gridspec(nrows=2, ncols=2, height_ratios=[2,1], width_ratios=[2,1.4],\n",
    "    #                       left=left, right=right, bottom=bottom, top=top, hspace=0.6, wspace=0.3)\n",
    "    ax1 = plt.subplot(gs[0,0])\n",
    "    plot_obs_all(ax1, t, y, examples, title=\"Time series\")\n",
    "\n",
    "    labels = \"ABCDEFGHI\"[:len(examples)]    \n",
    "    ax2 = plt.subplot(gs[1,0])\n",
    "    plot_obs_lines(ax2, t, y[examples], labels=labels, offset=4, us=us)\n",
    "    # plt.xlim(0,150)\n",
    "    \n",
    "    vpos = 7 if us is None else 12\n",
    "    plt.plot([60, 120], [vpos,vpos], lw=2, color='k', clip_on=False)\n",
    "    plt.text(90, vpos+1, \"60 s\", ha='center', va='bottom', clip_on=False, fontsize=8)\n",
    "\n",
    "    ax3 = plt.subplot(gs[0,1])\n",
    "    box = ax3.get_position()\n",
    "    fig = ax3.figure\n",
    "    cax3 = fig.add_axes([box.x0+box.width+0.005,box.y0+0.2*box.height,0.02,0.6*box.height])\n",
    "    plot_fc(ax3, cax3, y)        "
   ]
  },
  {
   "cell_type": "code",
   "execution_count": null,
   "id": "c423df4b",
   "metadata": {
    "scrolled": false
   },
   "outputs": [],
   "source": [
    "isample = 3\n",
    "iregs = [40, 60]\n",
    "\n",
    "plt.figure(figsize=(4,2), dpi=150)\n",
    "gs = gridspec.GridSpec(2, 2, width_ratios=(2,1), height_ratios=(2,1), hspace=0.4)\n",
    "plot_observations(gs, ds.t, ds.y[isub,:,0,:], iregs)\n",
    "\n",
    "plt.figure(figsize=(4,2), dpi=150)\n",
    "gs = gridspec.GridSpec(2, 2, width_ratios=(2,1), height_ratios=(2,1), hspace=0.4)\n",
    "plot_observations(gs, ds.t, sims.y[isample,0,:,0,-nt:], iregs, us=sims.us[isample,0,-nt:])\n",
    "\n"
   ]
  },
  {
   "cell_type": "markdown",
   "id": "27e45b28",
   "metadata": {},
   "source": [
    "### State space"
   ]
  },
  {
   "cell_type": "code",
   "execution_count": null,
   "id": "5287a560",
   "metadata": {},
   "outputs": [],
   "source": [
    "def phaseplot2d(ax, model, c1, c2, x, thetareg, thetasub, u=0., ushared=0., scale=6, color='k'):\n",
    "    assert c1 != c2\n",
    "    \n",
    "    plt.sca(ax)\n",
    "    fx = ndsv.models.evalf(model, x, thetareg=thetareg, thetasub=thetasub, u=u, ushared=ushared)\n",
    "        \n",
    "    if c1 < c2: u, v = fx[:,:,c1].T, fx[:,:,c2].T\n",
    "    else:       u, v = fx[:,:,c1], fx[:,:,c2]\n",
    "        \n",
    "    # plt.quiver(x[c1], x[c2], u, v, scale=scale, color=color)\n",
    "    plt.streamplot(x[c1], x[c2], u, v, density=0.5, linewidth=0.5, arrowsize=0.25, color=color)\n",
    "    \n",
    "    velocity = np.sqrt(u**2 + v**2)\n",
    "    plt.imshow(velocity, cmap='plasma', extent=[x[c1][0], x[c1][-1], x[c2][0], x[c2][-1]], origin='lower',\n",
    "               alpha=0.5, zorder=-1, vmin=0, vmax=3)\n",
    "\n",
    "\n",
    "def plot_phaseplot(ax, model, x, treg, tsub, dims=(0,1), dimnames=(1,2), nquiver=10, color='k', label=None,\n",
    "                   xlabels=True, ylabels=True):\n",
    "    \n",
    "    plt.sca(ax)\n",
    "    rng = (-2., 2.)\n",
    "    \n",
    "    # Trajectories\n",
    "    for i in range(x.shape[0]):\n",
    "        plt.plot(x[i,dims[0]], x[i,dims[1]], color='yellow', alpha=1, lw=0.25, zorder=10)\n",
    "        \n",
    "    # Fixed points\n",
    "    xfp, is_stable, _, _ = dsa.find_fixed_points_node(model, treg, tsub, u=0., us=0.)        \n",
    "    plt.scatter(xfp[is_stable,dims[0]],  xfp[is_stable, dims[1]],  color='k', s=8, ec='k', lw=0.5, zorder=30)\n",
    "    plt.scatter(xfp[~is_stable,dims[0]], xfp[~is_stable, dims[1]], color='w', s=8, ec='k', lw=0.5, zorder=30)\n",
    "    \n",
    "    \n",
    "    xq = [0. for _ in range(model.ns)]\n",
    "    xq[dims[0]] = np.linspace(rng[0], rng[1], nquiver)\n",
    "    xq[dims[1]] = np.linspace(rng[0], rng[1], nquiver)\n",
    "    phaseplot2d(ax, model, dims[0], dims[1], x=xq, thetareg=treg, thetasub=tsub,\n",
    "                u=0., ushared=0., scale=20, color='k')\n",
    "    plt.xlim(rng); plt.ylim(rng)\n",
    "    \n",
    "    plt.xticks([-2,0,2], None if xlabels else [\"\",\"\",\"\"])\n",
    "    if xlabels: plt.xlabel(f\"$x_{dimnames[0]}$\", labelpad=0)\n",
    "        \n",
    "    plt.yticks([-2,0,2], None if ylabels else [\"\",\"\",\"\"])\n",
    "    if ylabels: plt.ylabel(f\"$x_{dimnames[1]}$\", labelpad=0)\n",
    "    \n",
    "    if label:\n",
    "        plt.text(0.04, 0.96, label, ha='left', va='top', transform=ax.transAxes, color=color, fontsize=8, \n",
    "                 bbox=dict(boxstyle='square', facecolor='white', alpha=0.85))\n",
    "        \n",
    "    \n",
    "    for pos in ['bottom', 'top', 'right', 'left']:\n",
    "        ax.spines[pos].set_color(color)\n",
    "        ax.spines[pos].set_linewidth(1.5)\n",
    "    ax.tick_params(axis='both', colors=color)\n",
    "    ax.xaxis.label.set_color(color)\n",
    "    ax.yaxis.label.set_color(color)"
   ]
  },
  {
   "cell_type": "code",
   "execution_count": null,
   "id": "ccf53382",
   "metadata": {},
   "outputs": [],
   "source": [
    "plt.figure(figsize=(1,1), dpi=150)\n",
    "plot_phaseplot(plt.gca(), model, sims.x[isample:isample+1,0,iregs[0],:,-nt//2:-nt//4],\n",
    "               treg=params.thetareg[isub,iregs[0],:,0], tsub=params.thetasub[isub,:,0],\n",
    "               dims=(2,1), dimnames=(1,0), nquiver=50,\n",
    "               color=colors[0],\n",
    "               label=\"A\", xlabels=True)"
   ]
  },
  {
   "cell_type": "markdown",
   "id": "bf0dbdd3",
   "metadata": {},
   "source": [
    "## Order of state dimensions"
   ]
  },
  {
   "cell_type": "code",
   "execution_count": null,
   "id": "1e475ef8",
   "metadata": {},
   "outputs": [],
   "source": [
    "params.x.shape"
   ]
  },
  {
   "cell_type": "code",
   "execution_count": null,
   "id": "5bbf6dba",
   "metadata": {},
   "outputs": [],
   "source": [
    "def calc_kl_timeseries(x, nsamples=10):\n",
    "    nsub, nreg, ns, nt, _ = x.shape\n",
    "        \n",
    "    kl = np.full((nsub, nreg, ns, nt-1), np.nan)\n",
    "\n",
    "    for (isub, ireg) in itertools.product(range(nsub), range(nreg)):\n",
    "        xr = x[isub,ireg,:,1:,:]  # Note: we are removing the initial conditions\n",
    "        ntm = nt - 1\n",
    "        \n",
    "        x1mu, x1std  = xr[:,:,0], xr[:,:,1]        \n",
    "        xsamples = np.random.normal(x1mu[:,:,None], x1std[:,:,None], size=(ns, ntm, nsamples))        \n",
    "        x2mu  = np.mean(np.reshape(xsamples, (ns, ntm*nsamples)), axis=1)\n",
    "        x2std = np.std(np.reshape(xsamples, (ns, ntm*nsamples)), axis=1)\n",
    "\n",
    "        for i in range(ns):\n",
    "            kl[isub,ireg,i,:] = (np.log(x2std[i]/x1std[i]) \n",
    "                                 + (x1std[i]**2 + (x1mu[i] - x2mu[i])**2)/(2*x2std[i]**2) - 0.5)\n",
    "    return np.mean(kl, axis=(0,1,3))"
   ]
  },
  {
   "cell_type": "code",
   "execution_count": null,
   "id": "bf824ad4",
   "metadata": {},
   "outputs": [],
   "source": [
    "order = np.argsort(-calc_kl_timeseries(params.x))"
   ]
  },
  {
   "cell_type": "code",
   "execution_count": null,
   "id": "352ddb69",
   "metadata": {},
   "outputs": [],
   "source": [
    "order"
   ]
  },
  {
   "cell_type": "code",
   "execution_count": null,
   "id": "6c28cb76",
   "metadata": {},
   "outputs": [],
   "source": [
    "np.argsort(params.thetareg[5,:,0,0])"
   ]
  },
  {
   "cell_type": "markdown",
   "id": "ebea304a",
   "metadata": {},
   "source": [
    "## Figure"
   ]
  },
  {
   "cell_type": "code",
   "execution_count": null,
   "id": "9b7dfd49",
   "metadata": {
    "scrolled": false
   },
   "outputs": [],
   "source": [
    "isub = 5\n",
    "isample = 3\n",
    "# iregs = [40, 60]\n",
    "iregs = [40, 48]\n",
    "\n",
    "fig = plt.figure(figsize=(3.0,5.5), dpi=150)\n",
    "\n",
    "\n",
    "gs1 = fig.add_gridspec(nrows=2, ncols=2, left=0.13, right=0.90, bottom=0.7, top=0.93,\n",
    "                       width_ratios=[2,1], height_ratios=[2,1.2], hspace=0.4, wspace=0.3)\n",
    "\n",
    "gs2 = fig.add_gridspec(nrows=2, ncols=3, left=0.16, right=0.96, bottom=0.38, top=0.58, wspace=1.)\n",
    "\n",
    "gs3 = fig.add_gridspec(nrows=2, ncols=2, left=0.13, right=0.90,  bottom=0.05, top=0.28,\n",
    "                       width_ratios=[2,1], height_ratios=[2,1.2], hspace=0.4, wspace=0.3)\n",
    "\n",
    "\n",
    "# Panels A\n",
    "plot_observations(gs1, ds.t, ds.y[isub,:,0,:], iregs)\n",
    "\n",
    "# Panels B\n",
    "for i, (ireg, label) in enumerate(zip(iregs, ['A', 'B'])):\n",
    "    for j, dims in enumerate([(0,1), (0,2), (1,2)]):\n",
    "        truedims = order[list(dims)]        \n",
    "        ax = plt.subplot(gs2[i,j])\n",
    "        plot_phaseplot(ax, model, sims.x[isample:isample+1,0,iregs[i],:,-nt//2:-nt//4],\n",
    "                       treg=params.thetareg[isub,iregs[i],:,0], tsub=params.thetasub[isub,:,0],\n",
    "                       dims=truedims, dimnames=(dims[0]+1, dims[1]+1), nquiver=50,\n",
    "                       color=colors[i],\n",
    "                       label=(label if j == 0 else \"\"), xlabels=(i==1))\n",
    "\n",
    "\n",
    "# Panels C\n",
    "plot_observations(gs3, ds.t, sims.y[isample,0,:,0,-nt:], iregs, us=sims.us[isample,0,-nt:])\n",
    "\n",
    "\n",
    "bg = pu.Background(visible=False)\n",
    "bg.add_labels([0.02, 0.02, 0.02], [0.93, 0.57, 0.28], fontsize=14)\n",
    "\n",
    "bg.box((0.018, 0.982, 0.665, 0.977), pad=0.01, title=\"Original data\",  titlestyle={'fontsize':8})\n",
    "bg.box((0.018, 0.982, 0.015, 0.62), pad=0.01, title=\"Inferred model\", titlestyle={'fontsize':8})\n",
    "\n",
    "\n",
    "plt.savefig(f\"./img/Fig_HCP_Example.pdf\")"
   ]
  },
  {
   "cell_type": "code",
   "execution_count": null,
   "id": "43b29795",
   "metadata": {},
   "outputs": [],
   "source": []
  }
 ],
 "metadata": {
  "kernelspec": {
   "display_name": "Python 3 (ipykernel)",
   "language": "python",
   "name": "python3"
  },
  "language_info": {
   "codemirror_mode": {
    "name": "ipython",
    "version": 3
   },
   "file_extension": ".py",
   "mimetype": "text/x-python",
   "name": "python",
   "nbconvert_exporter": "python",
   "pygments_lexer": "ipython3",
   "version": "3.8.8"
  }
 },
 "nbformat": 4,
 "nbformat_minor": 5
}
