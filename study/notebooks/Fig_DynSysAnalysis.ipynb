{
 "cells": [
  {
   "cell_type": "code",
   "execution_count": null,
   "id": "100945ff",
   "metadata": {},
   "outputs": [],
   "source": [
    "import sys\n",
    "import os\n",
    "import itertools\n",
    "\n",
    "import numpy as np\n",
    "import matplotlib\n",
    "import matplotlib.pyplot as plt\n",
    "from matplotlib.gridspec import GridSpec\n",
    "from mpl_toolkits import mplot3d\n",
    "from sklearn.decomposition import PCA\n",
    "\n",
    "\n",
    "import pandas as pd\n",
    "\n",
    "sys.path.append(\"../../ndsvae/\")\n",
    "import ndsvae as ndsv\n",
    "\n",
    "sys.path.append(\"../\")\n",
    "import util\n",
    "import plotutils as pu\n",
    "import dsa\n",
    "\n",
    "%matplotlib inline\n",
    "%load_ext autoreload\n",
    "%autoreload 2"
   ]
  },
  {
   "cell_type": "code",
   "execution_count": null,
   "id": "1c6c9005",
   "metadata": {},
   "outputs": [],
   "source": [
    "config = \"ns_3_mreg_3_msub_0_nf_32\"\n",
    "conn = \"linw\"\n",
    "preproc = \"dicer\"\n",
    "modelname = \"AB\"\n",
    "\n",
    "ds = ndsv.Dataset.from_file(f\"../run/hcp/hcp100_{conn}_{preproc}/dataset.npz\")\n",
    "run = util.select_run_fc(f\"hcp100_{conn}_{preproc}\", modelname, config, [0,1], \"hcp\")\n",
    "direc = f\"../run/hcp/hcp100_{conn}_{preproc}/model{modelname}/{config}/run{run:02d}\"\n",
    "params = util.load_params(os.path.join(direc, \"parameters\"), np.r_[:100])\n",
    "\n",
    "model = util.get_model(modelname, config, ds)\n",
    "model.load_weights(f\"../run/hcp/hcp100_{conn}_{preproc}/model{modelname}/{config}/run{run:02d}/fit/model\")"
   ]
  },
  {
   "cell_type": "code",
   "execution_count": null,
   "id": "0edd04cd",
   "metadata": {},
   "outputs": [],
   "source": [
    "nsub, nreg, _, nt = ds.y.shape"
   ]
  },
  {
   "cell_type": "markdown",
   "id": "ce8dcd59",
   "metadata": {},
   "source": [
    "## Analyze and simulate"
   ]
  },
  {
   "cell_type": "code",
   "execution_count": null,
   "id": "6aca3cf5",
   "metadata": {},
   "outputs": [],
   "source": [
    "# Set seed for repeatability\n",
    "np.random.seed(42)"
   ]
  },
  {
   "cell_type": "code",
   "execution_count": null,
   "id": "ffd6c853",
   "metadata": {},
   "outputs": [],
   "source": [
    "# Node: fixed point and eigenvalues\n",
    "\n",
    "thetareg = np.zeros(model.mreg)\n",
    "thetasub = np.zeros(model.msub)\n",
    "u  = 0.\n",
    "us = 0.\n",
    "\n",
    "xf_node, _, ev_node, _ = dsa.find_fixed_points_node(model, thetareg=thetareg, thetasub=thetasub, u=u, us=us,\n",
    "                                                    n=5, init_range=(-2,2))\n",
    "\n",
    "len(xf_node)"
   ]
  },
  {
   "cell_type": "code",
   "execution_count": null,
   "id": "9c85ac6e",
   "metadata": {},
   "outputs": [],
   "source": [
    "# Node: Simulated trajectories\n",
    "\n",
    "t_node, x_node, _, _, _ = dsa.find_attractors_node(model, thetareg, thetasub, u=u, us=us, n=30, init_range=(-2,2),\n",
    "                                                   T1=100, T2=1000, max_step=0.1)\n",
    "\n",
    "t_node.shape, x_node.shape                                                        "
   ]
  },
  {
   "cell_type": "code",
   "execution_count": null,
   "id": "e4886605",
   "metadata": {},
   "outputs": [],
   "source": [
    "# Network: Fixed point and eigenvalues\n",
    "isub = 3\n",
    "\n",
    "thetareg = np.random.normal(params.thetareg[isub,:,:,0], params.thetareg[isub,:,:,1])\n",
    "thetasub = np.zeros(model.msub)\n",
    "us = 0.\n",
    "\n",
    "xf_network, _, ev_network, _ = dsa.find_fixed_points_network(model, ds.w[isub], \n",
    "                                                            thetareg=thetareg, thetasub=thetasub,\n",
    "                                                            us=us, n=5, init_range=(-2,2))\n",
    "\n",
    "len(xf_network)"
   ]
  },
  {
   "cell_type": "code",
   "execution_count": null,
   "id": "205a06a2",
   "metadata": {},
   "outputs": [],
   "source": [
    "# Network: Simulated trajectories\n",
    "\n",
    "t_network, x_network, _, _, _ = dsa.find_attractors_network(model, ds.w[isub], thetareg, thetasub, us=us, n=30,\n",
    "                                                            init_range=(-2,2), T1=100, T2=1000, max_step=0.1)\n"
   ]
  },
  {
   "cell_type": "markdown",
   "id": "42a9e90e",
   "metadata": {},
   "source": [
    "## Load previous data"
   ]
  },
  {
   "cell_type": "code",
   "execution_count": null,
   "id": "cc3ffcfc",
   "metadata": {},
   "outputs": [],
   "source": [
    "! ls res"
   ]
  },
  {
   "cell_type": "code",
   "execution_count": null,
   "id": "577319df",
   "metadata": {},
   "outputs": [],
   "source": [
    "df1s = pd.read_csv(\"res/df_fp.csv\")\n",
    "df2s = pd.read_csv(\"res/df_at.csv\")\n",
    "\n",
    "df1n = pd.read_csv(\"res/subj_fp.csv\")\n",
    "df2n = pd.read_csv(\"res/subj_at.csv\")\n",
    "\n",
    "fpn = np.load(\"res/subj_fp.npz\")['fixed_points']"
   ]
  },
  {
   "cell_type": "code",
   "execution_count": null,
   "id": "09fd1d51",
   "metadata": {},
   "outputs": [],
   "source": [
    "for isub_ in range(nsub):\n",
    "    for irand in range(4):\n",
    "        dff = df1n[(df1n.isub == isub_) & (df1n.irand == irand)]\n",
    "        if np.any(dff.n > 0) or np.any(~dff.stable):            \n",
    "            print(f\"Subject {isub_}, init {irand}\")\n",
    "            \n",
    "            for i, (_, row) in enumerate(dff.iterrows()):\n",
    "                print(f\"    FP{i}: {'Stable' if row.stable else 'Unstable'}\")\n",
    "    \n",
    "            ifps = dff.ifp.to_list()\n",
    "            for i, ifp1 in enumerate(ifps):\n",
    "                for j, ifp2 in enumerate(ifps[:i]):\n",
    "                    x1 = fpn[ifp1]\n",
    "                    x2 = fpn[ifp2]\n",
    "                    l2 = np.linalg.norm(x1-x2)\n",
    "                    linf = np.linalg.norm(x1-x2, ord=np.inf)\n",
    "                    print(f\"    Distance FP{j}-FP{i}: L2 {l2:8.5f}   Linf {linf:8.5f}\")\n",
    "\n",
    "            print(\"\")"
   ]
  },
  {
   "cell_type": "code",
   "execution_count": null,
   "id": "210f62e7",
   "metadata": {},
   "outputs": [],
   "source": [
    "node_frac_monostable  = sum(df1s.groupby(['iconf']).size() == 1) / df1s.iconf.nunique()\n",
    "node_frac_multistable = sum(df1s.groupby(['iconf']).size() > 1) / df1s.iconf.nunique()\n",
    "node_frac_nonstat = df2s.has_nonconverging.mean()"
   ]
  },
  {
   "cell_type": "code",
   "execution_count": null,
   "id": "3872551b",
   "metadata": {},
   "outputs": [],
   "source": [
    "dff = df1n.groupby([\"isub\", \"irand\"]).agg({\"n\": \"count\"}).groupby(\"isub\").agg({\"n\": \"max\"}).reset_index()\n",
    "network_n_monostable  = sum(dff.n == 1)\n",
    "network_n_multistable = sum(dff.n > 1)\n",
    "network_n_nonstat = sum(df2n.groupby(\"isub\").agg({\"has_nonconverging\": \"any\"}).has_nonconverging)"
   ]
  },
  {
   "cell_type": "markdown",
   "id": "b1a16683",
   "metadata": {},
   "source": [
    "## Plotting functions"
   ]
  },
  {
   "cell_type": "code",
   "execution_count": null,
   "id": "747bd186",
   "metadata": {},
   "outputs": [],
   "source": [
    "def plot_3d(ax, x, x0, highlight, labels=None):\n",
    "    n = len(x)    \n",
    "\n",
    "    for i in range(n):\n",
    "        color, alpha, lw, zorder = ('0.4', 0.7, 1, 5) if i != highlight else ('tab:red' , 1., 1.5, 8)\n",
    "        ax.plot(x[i,0], x[i,1], x[i,2], color=color, zorder=zorder, alpha=alpha, lw=lw)\n",
    "        ax.scatter(x[i,0,0], x[i,1,0], x[i,2,0], color=color, alpha=alpha, s=8, marker='^')\n",
    "\n",
    "    ax.scatter(x0[0], x0[1], x0[2], color='k', s=40, zorder=15)\n",
    "    \n",
    "    ax.tick_params(labelsize=8, pad=0)\n",
    "    ax.view_init(elev=10, azim=30,)\n",
    "    ax.set_xticks([-2, 0, 2])\n",
    "    ax.set_yticks([-2, 0, 2])\n",
    "    ax.set_zticks([-2, 0, 2])\n",
    "    ax.xaxis.set_rotate_label(False)\n",
    "    ax.yaxis.set_rotate_label(False)\n",
    "    ax.zaxis.set_rotate_label(False)\n",
    "    \n",
    "    if labels is None:\n",
    "        labels = [\"$x_{1}$\", \"$x_{2}$\", \"$x_{3}$\"]\n",
    "    \n",
    "    ax.set_xlabel(labels[0], labelpad=0)\n",
    "    ax.set_ylabel(labels[1], labelpad=0)\n",
    "    ax.set_zlabel(labels[2], labelpad=0)\n",
    "    \n",
    "    \n",
    "def plot_eigenvalues(ax, eigenvalues, **args):\n",
    "    plt.sca(ax)\n",
    "    \n",
    "    plt.scatter(eigenvalues.real, 10*eigenvalues.imag, color='k', zorder=5, **args)\n",
    "    \n",
    "    plt.xlim(-1.5, 1.5)\n",
    "    plt.ylim(-1.5, 1.5)\n",
    "    plt.xticks([-1, 0, 1])\n",
    "    plt.yticks([-1, 0, 1], [-0.1, 0., 0.1])\n",
    "    # plt.ylim(-0.15, 0.15)\n",
    "    \n",
    "    if np.any(np.abs(eigenvalues.real) > 1.5) or np.any(np.abs(eigenvalues.imag) > 0.15):\n",
    "        print(\"Limits unsufficient!\")\n",
    "    \n",
    "    plt.grid()\n",
    "    plt.xlabel(\"Re($\\\\lambda$)\")\n",
    "    plt.ylabel(\"Im($\\\\lambda$)\")\n",
    "    \n",
    "def plot_bars(ax, values, percents=False, ylabel=None):\n",
    "    bars = plt.bar([0,1,2], values)\n",
    "    plt.xticks([0, 1, 2], [\"Mono-\\nstable\", \"Multi-\\nstable\", \"Un-\\nsteady\"])\n",
    "    \n",
    "    if percents:\n",
    "        plt.yticks([0, 50, 100], [\"0%\", \"50%\", \"100%\"])\n",
    "        ax.bar_label(bars, fmt='%g%%')\n",
    "    else:\n",
    "        plt.yticks([0, 50, 100])\n",
    "        ax.bar_label(bars, fmt='%g')\n",
    "        \n",
    "    if ylabel is not None:\n",
    "        plt.ylabel(ylabel)\n",
    "        \n",
    "    plt.ylim(0, 120)\n",
    "    pu.bottomleft_spines(ax)"
   ]
  },
  {
   "cell_type": "markdown",
   "id": "6a241f41",
   "metadata": {},
   "source": [
    "## Figure"
   ]
  },
  {
   "cell_type": "code",
   "execution_count": null,
   "id": "e01864d7",
   "metadata": {},
   "outputs": [],
   "source": [
    "plt.rcParams['font.family'] = \"sans-serif\"\n",
    "plt.rcParams['font.sans-serif'] = \"Arial\"\n",
    "\n",
    "SMALL_SIZE = 8\n",
    "MEDIUM_SIZE = 10\n",
    "BIGGER_SIZE = 12\n",
    "\n",
    "plt.rc('font', size=SMALL_SIZE)          # controls default text sizes\n",
    "plt.rc('axes', titlesize=SMALL_SIZE)     # fontsize of the axes title\n",
    "plt.rc('axes', labelsize=SMALL_SIZE)    # fontsize of the x and y labels\n",
    "plt.rc('xtick', labelsize=SMALL_SIZE)    # fontsize of the tick labels\n",
    "plt.rc('ytick', labelsize=SMALL_SIZE)    # fontsize of the tick labels\n",
    "plt.rc('legend', fontsize=SMALL_SIZE)    # legend fontsize\n",
    "plt.rc('figure', titlesize=BIGGER_SIZE)  # fontsize of the figure title"
   ]
  },
  {
   "cell_type": "code",
   "execution_count": null,
   "id": "f8dd390a",
   "metadata": {
    "scrolled": false
   },
   "outputs": [],
   "source": [
    "FS = 0.72\n",
    "\n",
    "fig = plt.figure(figsize=(7.5, 5), dpi=150)\n",
    "\n",
    "gs0 = GridSpec(nrows=2, ncols=1, hspace=0.7, left=0.05, bottom=0.05, top=0.9, right=0.42)\n",
    "gs1 = GridSpec(nrows=5, ncols=1, hspace=0.8, wspace=0.0, height_ratios=(1,1,-0.1,1,1),\n",
    "              left=0.43, bottom=0.08, top=0.94, right=0.65)\n",
    "\n",
    "gs2 = GridSpec(nrows=2, ncols=1, hspace=1.4, left=0.82, bottom=0.15, top=0.85, right=0.98)\n",
    "\n",
    "# Node dynamics\n",
    "irand = 12\n",
    "\n",
    "ax = plt.subplot(gs0[0], projection='3d')\n",
    "plot_3d(ax, x_node[:30], xf_node[0], highlight=irand)\n",
    "\n",
    "\n",
    "ax = plt.subplot(gs1[1])\n",
    "plt.plot(FS*t_node, x_node[irand,0,:], label=\"$x_1$\", ls='--')\n",
    "plt.plot(FS*t_node, x_node[irand,1,:], label=\"$x_2$\", ls='-')\n",
    "plt.plot(FS*t_node, x_node[irand,2,:], label=\"$x_3$\", ls='-.')\n",
    "plt.legend(fontsize=8)\n",
    "plt.xlim(0, 15)\n",
    "plt.xlabel(\"Time [s]\")\n",
    "# plt.ylabel(\"$x$\", rotation=0)\n",
    "pu.bottomleft_spines(ax)\n",
    "\n",
    "ax = plt.subplot(gs1[0], aspect='equal')\n",
    "plot_eigenvalues(ax, ev_node[0], s=10)\n",
    "\n",
    "\n",
    "ax = plt.subplot(gs2[0])\n",
    "plot_bars(ax, 100*np.array([node_frac_monostable, node_frac_multistable, node_frac_nonstat]),\n",
    "          percents=True, ylabel=\"Nodes\")\n",
    "\n",
    "\n",
    "\n",
    "# Network dynamics\n",
    "irand = 7\n",
    "\n",
    "ax = plt.subplot(gs0[1], projection='3d')\n",
    "iregs = [59,10,37]\n",
    "xn = np.array([x_network[i][iregs,1,:200] for i in range(30)])\n",
    "plot_3d(ax, xn, xf_network[0,iregs,1], highlight=irand,\n",
    "        labels=[f\"$x_{{2,{iregs[0]}}}$\", f\"$x_{{2,{iregs[1]}}}$\", f\"$x_{{2,{iregs[2]}}}$\"])\n",
    "\n",
    "\n",
    "ax = plt.subplot(gs1[4])\n",
    "for i in range(nreg):\n",
    "    plt.plot(FS*t_network[irand], x_network[irand][i,1,:], color='tab:orange', lw=0.5, alpha=0.5)\n",
    "# plt.legend(fontsize=8)\n",
    "plt.xlim(0, 15)\n",
    "plt.xlabel(\"Time [s]\")\n",
    "plt.ylabel(\"$x_2$\", rotation=0)\n",
    "pu.bottomleft_spines(ax)\n",
    "\n",
    "\n",
    "ax = plt.subplot(gs1[3], aspect='equal')\n",
    "plot_eigenvalues(ax, ev_network[0], s=1, alpha=0.5)\n",
    "\n",
    "ax = plt.subplot(gs2[1])\n",
    "plot_bars(ax, np.array([network_n_monostable, network_n_multistable, network_n_nonstat]), ylabel=\"# subjects\")\n",
    "\n",
    "\n",
    "bg = pu.Background(visible=False)\n",
    "bg.axes.text(0.22, 0.96, \"Node dynamics\",    ha='center', va='center', fontsize=14)\n",
    "bg.axes.text(0.22, 0.912, r\"${\\theta}^r = 0, u = 0, u_\\mathrm{ext} = 0$\", ha='center', va='center',\n",
    "             fontsize=10, zorder=30)\n",
    "\n",
    "\n",
    "bg.axes.text(0.22, 0.43, \"Network dynamics\", ha='center', va='center', fontsize=14)\n",
    "bg.axes.text(0.22, 0.382, f\"Subject {isub}\", ha='center', va='center', fontsize=10, zorder=30)\n",
    "\n",
    "# bg.add_labels([0.02, 0.38, 0.75, 0.02, 0.38, 0.75], [0.92, 0.92, 0.88, 0.40, 0.40, 0.36])\n",
    "bg.add_labels([0.02, 0.75, 0.02, 0.75], [0.92, 0.88, 0.40, 0.36], fontsize=14)\n",
    "plt.savefig(\"img/Fig_DynSys.pdf\")"
   ]
  },
  {
   "cell_type": "code",
   "execution_count": null,
   "id": "50c9ebf9",
   "metadata": {},
   "outputs": [],
   "source": []
  }
 ],
 "metadata": {
  "kernelspec": {
   "display_name": "Python 3 (ipykernel)",
   "language": "python",
   "name": "python3"
  },
  "language_info": {
   "codemirror_mode": {
    "name": "ipython",
    "version": 3
   },
   "file_extension": ".py",
   "mimetype": "text/x-python",
   "name": "python",
   "nbconvert_exporter": "python",
   "pygments_lexer": "ipython3",
   "version": "3.8.8"
  }
 },
 "nbformat": 4,
 "nbformat_minor": 5
}
