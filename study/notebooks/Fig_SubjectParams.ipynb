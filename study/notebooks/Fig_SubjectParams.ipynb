{
 "cells": [
  {
   "cell_type": "code",
   "execution_count": null,
   "id": "100945ff",
   "metadata": {},
   "outputs": [],
   "source": [
    "import sys\n",
    "import os\n",
    "\n",
    "import numpy as np\n",
    "import matplotlib\n",
    "import matplotlib.pyplot as plt\n",
    "from matplotlib.gridspec import GridSpec\n",
    "\n",
    "sys.path.append(\"../../ndsvae/\")\n",
    "import ndsvae as ndsv\n",
    "\n",
    "sys.path.append(\"../\")\n",
    "import util\n",
    "import plotutils as pu\n",
    "\n",
    "%matplotlib inline"
   ]
  },
  {
   "cell_type": "code",
   "execution_count": null,
   "id": "4a80ebd5",
   "metadata": {},
   "outputs": [],
   "source": [
    "config1 = \"ns_3_mreg_5_msub_0_nf_32\"\n",
    "conn1 = \"linw\"\n",
    "\n",
    "config2 = \"ns_3_mreg_3_msub_5_nf_32\"\n",
    "conn2 = \"logwhom\"\n",
    "\n",
    "preproc = \"dicer\"\n",
    "modelname = \"AB\"\n",
    "\n",
    "run = 0\n",
    "\n",
    "ds1 = ndsv.Dataset.from_file(f\"../run/hcp/hcp100_{conn1}_{preproc}/dataset.npz\")\n",
    "ds2 = ndsv.Dataset.from_file(f\"../run/hcp/hcp100_{conn2}_{preproc}/dataset.npz\")\n",
    "\n",
    "direc1 = f\"../run/hcp/hcp100_{conn1}_{preproc}/model{modelname}/{config1}/run{run:02d}\"\n",
    "direc2 = f\"../run/hcp/hcp100_{conn2}_{preproc}/model{modelname}/{config2}/run{run:02d}\""
   ]
  },
  {
   "cell_type": "code",
   "execution_count": null,
   "id": "d32f00c3",
   "metadata": {},
   "outputs": [],
   "source": [
    "isubs = np.r_[0:100]\n",
    "\n",
    "epochs = [0, 200, 400, 600, 800, 1000]\n",
    "thetaregs = []\n",
    "thetasubs = []\n",
    "\n",
    "for epoch in epochs:\n",
    "    model1 = util.get_model(modelname, config1, ds1)\n",
    "    model1.load_weights(os.path.join(direc1, f\"fit/models/model_{epoch:05d}\"))\n",
    "    params = model1.encode_subjects(ds1.w[isubs], ds1.y[isubs], isubs)\n",
    "    if epoch == 0:\n",
    "        params.thetareg[:,:,:,0] = 0\n",
    "        params.thetareg[:,:,:,1] = 1\n",
    "    thetaregs.append(params.thetareg)\n",
    "    \n",
    "    model2 = util.get_model(modelname, config2, ds2)\n",
    "    model2.load_weights(os.path.join(direc2, f\"fit/models/model_{epoch:05d}\"))\n",
    "    params = model2.encode_subjects(ds2.w[isubs], ds2.y[isubs], isubs)\n",
    "    thetasubs.append(params.thetasub)\n",
    "    if epoch == 0:\n",
    "        params.thetasub[:,:,0] = 0\n",
    "        params.thetasub[:,:,1] = 1"
   ]
  },
  {
   "cell_type": "code",
   "execution_count": null,
   "id": "262a3395",
   "metadata": {},
   "outputs": [],
   "source": [
    "def plot_crosses(ax, x, **args):\n",
    "    plt.sca(ax)\n",
    "    n, _, _ = x.shape\n",
    "    assert x.shape == (n, 2, 2)\n",
    "    for i in range(n):\n",
    "        plt.plot([x[i,0,0]-x[i,0,1], x[i,0,0]+x[i,0,1]], [x[i,1,0], x[i,1,0]], **args)\n",
    "        plt.plot([x[i,0,0], x[i,0,0]], [x[i,1,0]-x[i,1,1], x[i,1,0]+x[i,1,1]], **args)"
   ]
  },
  {
   "cell_type": "code",
   "execution_count": null,
   "id": "63d7e762",
   "metadata": {},
   "outputs": [],
   "source": [
    "plt.rcParams['font.family'] = \"sans-serif\"\n",
    "plt.rcParams['font.sans-serif'] = \"Arial\"\n",
    "\n",
    "SMALL_SIZE = 8\n",
    "MEDIUM_SIZE = 10\n",
    "BIGGER_SIZE = 12\n",
    "\n",
    "plt.rc('font', size=SMALL_SIZE)          # controls default text sizes\n",
    "plt.rc('axes', titlesize=SMALL_SIZE)     # fontsize of the axes title\n",
    "plt.rc('axes', labelsize=SMALL_SIZE)    # fontsize of the x and y labels\n",
    "plt.rc('xtick', labelsize=SMALL_SIZE)    # fontsize of the tick labels\n",
    "plt.rc('ytick', labelsize=SMALL_SIZE)    # fontsize of the tick labels\n",
    "plt.rc('legend', fontsize=SMALL_SIZE)    # legend fontsize\n",
    "plt.rc('figure', titlesize=BIGGER_SIZE)  # fontsize of the figure title"
   ]
  },
  {
   "cell_type": "code",
   "execution_count": null,
   "id": "e926e99e",
   "metadata": {},
   "outputs": [],
   "source": [
    "def plot_params(ax, theta, label, show_label=False):\n",
    "    plt.sca(ax)\n",
    "    plot_crosses(ax, theta, color='k', lw=0.5)\n",
    "    plt.xlim(-3,3)\n",
    "    plt.ylim(-3,3)\n",
    "    plt.xticks([-2,0,2])\n",
    "    if show_label:\n",
    "        plt.yticks([-2,0,2])\n",
    "        plt.ylabel(label, rotation=False, va='center', labelpad=20)\n",
    "    else:\n",
    "        plt.yticks([])\n",
    "    \n",
    "    circle = plt.Circle((0, 0), 1, ec='tab:blue', fc='none', lw=0.6, zorder=-5)\n",
    "    ax.add_patch(circle)\n",
    "    ax.set_aspect('equal')"
   ]
  },
  {
   "cell_type": "code",
   "execution_count": null,
   "id": "214c5ed3",
   "metadata": {},
   "outputs": [],
   "source": [
    "plt.figure(figsize=(5.5,4.), dpi=150)\n",
    "\n",
    "gs = GridSpec(nrows=5, ncols=len(epochs), left=0.15, right=0.96, bottom=0.06, top=0.95, hspace=0., wspace=0.,\n",
    "             height_ratios=[1,1,0.8,1,1])\n",
    "\n",
    "isub = 2\n",
    "\n",
    "for i, (epoch, thetareg, thetasub) in enumerate(zip(epochs, thetaregs, thetasubs)):\n",
    "    ax = plt.subplot(gs[0,i])\n",
    "    plot_params(ax, thetareg[isub][:,[1,4],:], r\"$\\theta^r_1$, $\\theta^r_2$\", show_label=(i==0))\n",
    "    plt.title(f\"Epoch {epoch}\")\n",
    "    \n",
    "    ax = plt.subplot(gs[1,i])\n",
    "    plot_params(ax, thetareg[isub][:,[0,2],:], r\"$\\theta^r_3$, $\\theta^r_4$\", show_label=(i==0))\n",
    "    \n",
    "    ax = plt.subplot(gs[3,i])\n",
    "    plot_params(ax, thetasub[:,[0,1],:], r\"$\\theta^s_1$, $\\theta^s_2$\", show_label=(i==0))\n",
    "    plt.title(f\"Epoch {epoch}\")\n",
    "    \n",
    "    ax = plt.subplot(gs[4,i])\n",
    "    plot_params(ax, thetasub[:,[3,4],:], r\"$\\theta^s_3$, $\\theta^s_4$\", show_label=(i==0))\n",
    "    \n",
    "    \n",
    "bg = pu.Background(visible=False)\n",
    "plt.savefig(\"img/Fig_HCP-SubjectParameters.pdf\")"
   ]
  },
  {
   "cell_type": "code",
   "execution_count": null,
   "id": "da009f77",
   "metadata": {},
   "outputs": [],
   "source": []
  }
 ],
 "metadata": {
  "kernelspec": {
   "display_name": "Python 3 (ipykernel)",
   "language": "python",
   "name": "python3"
  },
  "language_info": {
   "codemirror_mode": {
    "name": "ipython",
    "version": 3
   },
   "file_extension": ".py",
   "mimetype": "text/x-python",
   "name": "python",
   "nbconvert_exporter": "python",
   "pygments_lexer": "ipython3",
   "version": "3.8.8"
  }
 },
 "nbformat": 4,
 "nbformat_minor": 5
}
