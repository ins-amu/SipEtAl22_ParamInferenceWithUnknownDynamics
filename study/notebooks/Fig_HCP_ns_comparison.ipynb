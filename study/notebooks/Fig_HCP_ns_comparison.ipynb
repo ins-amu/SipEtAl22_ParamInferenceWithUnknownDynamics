{
 "cells": [
  {
   "cell_type": "code",
   "execution_count": null,
   "id": "15a56690",
   "metadata": {},
   "outputs": [],
   "source": [
    "import sys\n",
    "import os\n",
    "import itertools\n",
    "\n",
    "import numpy as np\n",
    "import scipy.stats as stats\n",
    "\n",
    "import matplotlib\n",
    "import matplotlib.pyplot as plt\n",
    "import matplotlib.gridspec as gridspec\n",
    "from mpl_toolkits.axes_grid1 import make_axes_locatable\n",
    "from mpl_toolkits.axes_grid1.inset_locator import inset_axes\n",
    "\n",
    "\n",
    "sys.path.append(\"../../ndsvae/\")\n",
    "import ndsvae as ndsv\n",
    "\n",
    "sys.path.append(\"..\")\n",
    "import plot\n",
    "import plotutils as pu\n",
    "import util\n",
    "\n",
    "\n",
    "%matplotlib inline\n",
    "%load_ext autoreload\n",
    "%autoreload 2"
   ]
  },
  {
   "cell_type": "markdown",
   "id": "82852e36",
   "metadata": {},
   "source": [
    "## Matplotlib config"
   ]
  },
  {
   "cell_type": "code",
   "execution_count": null,
   "id": "6b4f2d70",
   "metadata": {},
   "outputs": [],
   "source": [
    "plt.rcParams['font.family'] = \"sans-serif\"\n",
    "plt.rcParams['font.sans-serif'] = \"Arial\"\n",
    "\n",
    "SMALL_SIZE = 8\n",
    "MEDIUM_SIZE = 10\n",
    "BIGGER_SIZE = 12\n",
    "\n",
    "plt.rc('font', size=SMALL_SIZE)          # controls default text sizes\n",
    "plt.rc('axes', titlesize=SMALL_SIZE)     # fontsize of the axes title\n",
    "plt.rc('axes', labelsize=SMALL_SIZE)    # fontsize of the x and y labels\n",
    "plt.rc('xtick', labelsize=SMALL_SIZE)    # fontsize of the tick labels\n",
    "plt.rc('ytick', labelsize=SMALL_SIZE)    # fontsize of the tick labels\n",
    "plt.rc('legend', fontsize=SMALL_SIZE)    # legend fontsize\n",
    "plt.rc('figure', titlesize=BIGGER_SIZE)  # fontsize of the figure title"
   ]
  },
  {
   "cell_type": "markdown",
   "id": "e0ac1bbe",
   "metadata": {},
   "source": [
    "## Load data"
   ]
  },
  {
   "cell_type": "code",
   "execution_count": null,
   "id": "54bca8dc",
   "metadata": {},
   "outputs": [],
   "source": [
    "conn = \"linw\"\n",
    "preproc = \"dicer\"\n",
    "modelname = \"AB\"\n",
    "configs = [\"ns_1_mreg_3_msub_0_nf_32\", \"ns_2_mreg_3_msub_0_nf_32\", \"ns_3_mreg_3_msub_0_nf_32\",\n",
    "           \"ns_4_mreg_3_msub_0_nf_32\", \"ns_5_mreg_3_msub_0_nf_32\"]"
   ]
  },
  {
   "cell_type": "code",
   "execution_count": null,
   "id": "ba7bfcde",
   "metadata": {},
   "outputs": [],
   "source": [
    "ds = ndsv.Dataset.from_file(f\"../run/hcp/hcp100_{conn}_{preproc}/dataset.npz\")\n",
    "nt = ds.y.shape[-1]"
   ]
  },
  {
   "cell_type": "markdown",
   "id": "6514557b",
   "metadata": {},
   "source": [
    "### FC similarity"
   ]
  },
  {
   "cell_type": "code",
   "execution_count": null,
   "id": "d4c6f33b",
   "metadata": {},
   "outputs": [],
   "source": [
    "def get_fc_similarity(preproc, configs, model, conn):\n",
    "    nreg = 68\n",
    "    nsub = 100\n",
    "    nsamples = 50\n",
    "    nconf = len(configs)\n",
    "    \n",
    "    runs = np.array([util.select_run_fc(f\"hcp100_{conn}_{preproc}\", modelname, config, [0,1], \"hcp\") \n",
    "                     for config in configs])    \n",
    "    pc = np.zeros((nconf, nsub, nsamples))\n",
    "    \n",
    "    for i, config in enumerate(configs):\n",
    "        fc = np.load(\n",
    "            f\"../run/hcp/hcp100_{conn}_{preproc}/model{model}/{config}/run{runs[i]:02d}/simulations/fc.npz\")\n",
    "        pc[i] = fc['similarity']   \n",
    "        \n",
    "    return pc\n",
    "\n",
    "\n",
    "fc_pc = get_fc_similarity(preproc, configs, modelname, conn)"
   ]
  },
  {
   "cell_type": "code",
   "execution_count": null,
   "id": "d889fc40",
   "metadata": {},
   "outputs": [],
   "source": [
    "fc_pc.shape"
   ]
  },
  {
   "cell_type": "code",
   "execution_count": null,
   "id": "47906983",
   "metadata": {},
   "outputs": [],
   "source": [
    "def plot_fc_similarity(ax, pc, nss):\n",
    "    nconf, nsub, nsamples = pc.shape\n",
    "    space = 1\n",
    "    \n",
    "    plt.boxplot([np.mean(pc[i], axis=1) for i in range(nconf)], positions=np.r_[0:nconf],\n",
    "                showfliers=False, showmeans=True, meanline=True, meanprops={'color': 'k'})\n",
    "\n",
    "    plt.ylabel('Pearson corr.\\nof FC elements')\n",
    "    plt.ylim(-0.05, 1.05)\n",
    "    plt.yticks([0, 0.25, 0.5, 0.75, 1])\n",
    "    plt.grid()\n",
    "    \n",
    "#     labelpos = np.concatenate([np.r_[:nconns], np.r_[:nconns] + nconns + space])\n",
    "#     labels = np.concatenate([connlabels, connlabels])\n",
    "    \n",
    "#     plt.xticks(labelpos, labels, rotation='vertical')\n",
    "#     plt.xlabel(\"Connectome\", labelpad=5)\n",
    "    \n",
    "#     plt.grid(axis='y', zorder=-10)\n",
    "#     pu.bottomleft_spines(ax)\n",
    "    \n",
    "#     plt.text(1.5, 1.2, \"Model with\\nexternal input\", ha='center', va='center', fontsize=8)\n",
    "#     plt.text(nconns+space+1.5, 1.2, \"Model without\\nexternal input\", ha='center', va='center', fontsize=8)\n",
    "\n",
    "\n",
    "def add_newline(s):\n",
    "    return s[:s.rfind(\" \")] + '\\n' + s[s.rfind(\" \")+1:]\n",
    "    \n",
    "def plot_pvals(ax, pvals, connlabels, modlabels):\n",
    "    plt.title(\"p-values\")\n",
    "    plt.imshow(np.log10(pvals.T+1e-10), vmin=-20, vmax=4, cmap='Reds_r', aspect='auto')\n",
    "    for i in range(n):\n",
    "        for j in range(n):\n",
    "            if j > i:\n",
    "                ptext = f\"{pvals[i,j]:.1e}\" if pvals[i,j] >= 1e-10 else \"< 1e-10\"\n",
    "                plt.text(i, j, ptext, ha='center', va='center', fontsize=6)\n",
    "\n",
    "    labels = [c for m in modellabels for c in connlabels]\n",
    "    plt.xticks(np.r_[:n], labels, rotation='vertical')\n",
    "    plt.yticks(np.r_[:n], labels);\n",
    "    \n",
    "    for key, spine in ax.spines.items():\n",
    "        spine.set_visible(False)\n",
    "    ax.xaxis.set_ticks_position('none') \n",
    "    ax.yaxis.set_ticks_position('none') \n",
    "\n",
    "    plt.xlim(-0.5,6.5)\n",
    "    plt.ylim(7.5,0.5)    \n",
    "    \n",
    "    plt.text(1.5, 11.7, modlabels[0], ha='center', va='center')\n",
    "    plt.text(5., 11.7, modlabels[1], ha='center', va='center')\n",
    "    plt.plot([-0.3, 3.3], [11., 11], color='k', clip_on=False)\n",
    "    plt.plot([3.7, 6.3], [11., 11], color='k', clip_on=False)\n",
    "    \n",
    "    \n",
    "    plt.text(-3, 2,   add_newline(modlabels[0]), ha='center', va='center', rotation='vertical')\n",
    "    plt.text(-3, 5.8, add_newline(modlabels[1]), ha='center', va='center', rotation='vertical')\n",
    "    plt.plot([-2.5, -2.5], [0.7, 3.3], color='k', clip_on=False)\n",
    "    plt.plot([-2.5, -2.5], [3.7, 7.3], color='k', clip_on=False)\n",
    "    \n",
    "\n",
    "labels = [\"Std\", \"Std+hom\", \"Log\", \"Log+hom\"]\n",
    "    \n",
    "plt.figure(figsize=(7.0,3.0), dpi=150)\n",
    "gs = gridspec.GridSpec(nrows=1, ncols=2, wspace=0.6, width_ratios=[1,1], right=0.98, left=0.1,\n",
    "                       top=0.86, bottom=0.34)\n",
    "\n",
    "ax = plt.subplot(gs[0])\n",
    "plot_fc_similarity(ax, fc_pc, np.r_[1:6])\n",
    "\n",
    "# ax = plt.subplot(gs[1])\n",
    "# plot_pvals(ax, pvals, connlabels, [\"With external input\", \"Without external input\"])\n",
    "\n",
    "plt.tight_layout()\n",
    "bg = pu.Background(visible=False)\n",
    "# plt.savefig(\"img/Fig_HCP-ns.pdf\")"
   ]
  },
  {
   "cell_type": "markdown",
   "id": "170f3b83",
   "metadata": {},
   "source": [
    "## Statistics"
   ]
  },
  {
   "cell_type": "code",
   "execution_count": null,
   "id": "ac98a0cd",
   "metadata": {},
   "outputs": [],
   "source": [
    "x = fc_pc.reshape((2*len(conns), -1))\n",
    "\n",
    "n = len(x)\n",
    "pvals = np.full((n,n), np.nan)\n",
    "\n",
    "for i in range(n):\n",
    "    for j in range(i+1, n):\n",
    "        tval, pvals[i,j] = stats.ttest_ind(x[i], x[j])"
   ]
  },
  {
   "cell_type": "code",
   "execution_count": null,
   "id": "a2526478",
   "metadata": {},
   "outputs": [],
   "source": [
    "modellabels = [\"With input\", \"Without input\"]\n",
    "connlabels = [\"Std\", \"Std+hom\", \"Log\", \"Log+hom\"]\n",
    "# labels = [m + \", \" + c for m in modellabels for c in connlabels]\n",
    "labels = [c for m in modellabels for c in connlabels]"
   ]
  },
  {
   "cell_type": "code",
   "execution_count": null,
   "id": "50ce7535",
   "metadata": {},
   "outputs": [],
   "source": [
    "# current_cmap = matplotlib.cm.get_cmap()\n",
    "# current_cmap.set_bad(color='0.7')\n"
   ]
  },
  {
   "cell_type": "code",
   "execution_count": null,
   "id": "9533f6d4",
   "metadata": {},
   "outputs": [],
   "source": [
    "for i, l in enumerate(labels):\n",
    "    print(f\"{l:25}:   {np.mean(x[i]):.5f}\")"
   ]
  },
  {
   "cell_type": "code",
   "execution_count": null,
   "id": "4baefb6c",
   "metadata": {},
   "outputs": [],
   "source": []
  }
 ],
 "metadata": {
  "kernelspec": {
   "display_name": "Python 3 (ipykernel)",
   "language": "python",
   "name": "python3"
  },
  "language_info": {
   "codemirror_mode": {
    "name": "ipython",
    "version": 3
   },
   "file_extension": ".py",
   "mimetype": "text/x-python",
   "name": "python",
   "nbconvert_exporter": "python",
   "pygments_lexer": "ipython3",
   "version": "3.8.8"
  }
 },
 "nbformat": 4,
 "nbformat_minor": 5
}
